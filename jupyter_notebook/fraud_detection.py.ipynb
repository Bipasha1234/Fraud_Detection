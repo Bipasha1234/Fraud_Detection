{
 "cells": [
  {
   "cell_type": "code",
   "execution_count": 19,
   "id": "f8344ecf",
   "metadata": {},
   "outputs": [
    {
     "name": "stdout",
     "output_type": "stream",
     "text": [
      "Manual merge successful. Sample result:\n"
     ]
    },
    {
     "data": {
      "text/html": [
       "<div>\n",
       "<style scoped>\n",
       "    .dataframe tbody tr th:only-of-type {\n",
       "        vertical-align: middle;\n",
       "    }\n",
       "\n",
       "    .dataframe tbody tr th {\n",
       "        vertical-align: top;\n",
       "    }\n",
       "\n",
       "    .dataframe thead th {\n",
       "        text-align: right;\n",
       "    }\n",
       "</style>\n",
       "<table border=\"1\" class=\"dataframe\">\n",
       "  <thead>\n",
       "    <tr style=\"text-align: right;\">\n",
       "      <th></th>\n",
       "      <th>txn_id</th>\n",
       "      <th>user_id</th>\n",
       "      <th>txn_time</th>\n",
       "      <th>location_lat</th>\n",
       "      <th>location_long</th>\n",
       "      <th>device_id</th>\n",
       "      <th>txn_type</th>\n",
       "      <th>amount</th>\n",
       "      <th>is_fraud</th>\n",
       "      <th>login_time</th>\n",
       "      <th>login_lat</th>\n",
       "      <th>login_long</th>\n",
       "      <th>login_device</th>\n",
       "    </tr>\n",
       "  </thead>\n",
       "  <tbody>\n",
       "    <tr>\n",
       "      <th>0</th>\n",
       "      <td>5365d72f-6569-4f03-be3b-930a7245ee33</td>\n",
       "      <td>user_1</td>\n",
       "      <td>2025-07-05 07:26:24</td>\n",
       "      <td>79.101645</td>\n",
       "      <td>125.584274</td>\n",
       "      <td>device_33</td>\n",
       "      <td>debit</td>\n",
       "      <td>6262.08</td>\n",
       "      <td>0</td>\n",
       "      <td>2025-07-04 09:49:03</td>\n",
       "      <td>-22.896798</td>\n",
       "      <td>147.657579</td>\n",
       "      <td>device_13</td>\n",
       "    </tr>\n",
       "    <tr>\n",
       "      <th>1</th>\n",
       "      <td>4f608213-7119-45ae-b79f-17ce71a3c45d</td>\n",
       "      <td>user_1</td>\n",
       "      <td>2025-07-08 20:37:03</td>\n",
       "      <td>54.518719</td>\n",
       "      <td>122.508410</td>\n",
       "      <td>device_81</td>\n",
       "      <td>debit</td>\n",
       "      <td>6495.06</td>\n",
       "      <td>0</td>\n",
       "      <td>2025-07-07 06:00:43</td>\n",
       "      <td>22.030131</td>\n",
       "      <td>-160.994051</td>\n",
       "      <td>device_1</td>\n",
       "    </tr>\n",
       "    <tr>\n",
       "      <th>2</th>\n",
       "      <td>28baa27c-6ce4-49b1-b09c-b8684ad70cc6</td>\n",
       "      <td>user_1</td>\n",
       "      <td>2025-07-12 03:43:10</td>\n",
       "      <td>57.495713</td>\n",
       "      <td>36.782101</td>\n",
       "      <td>device_25</td>\n",
       "      <td>debit</td>\n",
       "      <td>7365.21</td>\n",
       "      <td>0</td>\n",
       "      <td>2025-07-11 15:39:02</td>\n",
       "      <td>89.331201</td>\n",
       "      <td>-117.151929</td>\n",
       "      <td>device_43</td>\n",
       "    </tr>\n",
       "    <tr>\n",
       "      <th>3</th>\n",
       "      <td>d60c3ac6-b762-46e9-bd4c-046db4f86aee</td>\n",
       "      <td>user_1</td>\n",
       "      <td>2025-07-13 02:41:29</td>\n",
       "      <td>-9.634341</td>\n",
       "      <td>11.767940</td>\n",
       "      <td>device_33</td>\n",
       "      <td>debit</td>\n",
       "      <td>8119.32</td>\n",
       "      <td>0</td>\n",
       "      <td>2025-07-11 15:39:02</td>\n",
       "      <td>89.331201</td>\n",
       "      <td>-117.151929</td>\n",
       "      <td>device_43</td>\n",
       "    </tr>\n",
       "    <tr>\n",
       "      <th>4</th>\n",
       "      <td>28923783-ca6b-4d6a-892d-eaeacf5a742d</td>\n",
       "      <td>user_10</td>\n",
       "      <td>2025-06-24 05:32:33</td>\n",
       "      <td>-28.606154</td>\n",
       "      <td>97.488900</td>\n",
       "      <td>device_86</td>\n",
       "      <td>debit</td>\n",
       "      <td>264.34</td>\n",
       "      <td>0</td>\n",
       "      <td>2025-06-18 23:21:14</td>\n",
       "      <td>43.194440</td>\n",
       "      <td>-135.863611</td>\n",
       "      <td>device_78</td>\n",
       "    </tr>\n",
       "  </tbody>\n",
       "</table>\n",
       "</div>"
      ],
      "text/plain": [
       "                                 txn_id  user_id            txn_time  \\\n",
       "0  5365d72f-6569-4f03-be3b-930a7245ee33   user_1 2025-07-05 07:26:24   \n",
       "1  4f608213-7119-45ae-b79f-17ce71a3c45d   user_1 2025-07-08 20:37:03   \n",
       "2  28baa27c-6ce4-49b1-b09c-b8684ad70cc6   user_1 2025-07-12 03:43:10   \n",
       "3  d60c3ac6-b762-46e9-bd4c-046db4f86aee   user_1 2025-07-13 02:41:29   \n",
       "4  28923783-ca6b-4d6a-892d-eaeacf5a742d  user_10 2025-06-24 05:32:33   \n",
       "\n",
       "   location_lat  location_long  device_id txn_type   amount  is_fraud  \\\n",
       "0     79.101645     125.584274  device_33    debit  6262.08         0   \n",
       "1     54.518719     122.508410  device_81    debit  6495.06         0   \n",
       "2     57.495713      36.782101  device_25    debit  7365.21         0   \n",
       "3     -9.634341      11.767940  device_33    debit  8119.32         0   \n",
       "4    -28.606154      97.488900  device_86    debit   264.34         0   \n",
       "\n",
       "           login_time  login_lat  login_long login_device  \n",
       "0 2025-07-04 09:49:03 -22.896798  147.657579    device_13  \n",
       "1 2025-07-07 06:00:43  22.030131 -160.994051     device_1  \n",
       "2 2025-07-11 15:39:02  89.331201 -117.151929    device_43  \n",
       "3 2025-07-11 15:39:02  89.331201 -117.151929    device_43  \n",
       "4 2025-06-18 23:21:14  43.194440 -135.863611    device_78  "
      ]
     },
     "execution_count": 19,
     "metadata": {},
     "output_type": "execute_result"
    }
   ],
   "source": [
    "# data loading\n",
    "import pandas as pd\n",
    "\n",
    "# Load and convert datetime\n",
    "users = pd.read_csv(\"users.csv\")\n",
    "logins = pd.read_csv(\"logins.csv\")\n",
    "transactions = pd.read_csv(\"transactions.csv\")\n",
    "\n",
    "logins[\"login_time\"] = pd.to_datetime(logins[\"login_time\"])\n",
    "transactions[\"txn_time\"] = pd.to_datetime(transactions[\"txn_time\"])\n",
    "\n",
    "# Sort before looping\n",
    "logins = logins.sort_values(by=[\"user_id\", \"login_time\"])\n",
    "transactions = transactions.sort_values(by=[\"user_id\", \"txn_time\"])\n",
    "\n",
    "# Manual group-wise merge: most recent login before each transaction\n",
    "merged_rows = []\n",
    "\n",
    "for user_id, txn_group in transactions.groupby(\"user_id\"):\n",
    "    user_logins = logins[logins[\"user_id\"] == user_id].sort_values(\"login_time\")\n",
    "    \n",
    "    for _, txn in txn_group.iterrows():\n",
    "        prior_logins = user_logins[user_logins[\"login_time\"] <= txn[\"txn_time\"]]\n",
    "        if not prior_logins.empty:\n",
    "            last_login = prior_logins.iloc[-1]\n",
    "            merged_rows.append({\n",
    "                **txn.to_dict(),\n",
    "                \"login_time\": last_login[\"login_time\"],\n",
    "                \"login_lat\": last_login[\"location_lat\"],\n",
    "                \"login_long\": last_login[\"location_long\"],\n",
    "                \"login_device\": last_login[\"device_id\"]\n",
    "            })\n",
    "\n",
    "merged = pd.DataFrame(merged_rows)\n",
    "print(\"Manual merge successful. Sample result:\")\n",
    "merged.head()\n"
   ]
  },
  {
   "cell_type": "code",
   "execution_count": 17,
   "id": "028391bf",
   "metadata": {},
   "outputs": [
    {
     "name": "stdout",
     "output_type": "stream",
     "text": [
      "       user_id            txn_time\n",
      "2833    user_1 2025-06-18 17:59:52\n",
      "3995    user_1 2025-06-25 02:46:21\n",
      "8477    user_1 2025-07-05 07:26:24\n",
      "306     user_1 2025-07-08 20:37:03\n",
      "2726    user_1 2025-07-12 03:43:10\n",
      "4727    user_1 2025-07-13 02:41:29\n",
      "767    user_10 2025-06-24 05:32:33\n",
      "6721   user_10 2025-07-01 08:07:36\n",
      "4018   user_10 2025-07-13 04:16:42\n",
      "38    user_100 2025-06-24 16:23:57\n",
      "       user_id          login_time\n",
      "7936    user_1 2025-06-26 04:16:21\n",
      "9780    user_1 2025-07-04 09:49:03\n",
      "2959    user_1 2025-07-06 11:47:19\n",
      "7582    user_1 2025-07-07 06:00:43\n",
      "4547    user_1 2025-07-11 15:39:02\n",
      "5303    user_1 2025-07-15 18:58:54\n",
      "9554    user_1 2025-07-15 23:29:35\n",
      "10953  user_10 2025-06-18 23:21:14\n",
      "7839   user_10 2025-07-01 16:05:36\n",
      "707    user_10 2025-07-06 22:21:18\n"
     ]
    }
   ],
   "source": [
    "print(transactions[[\"user_id\", \"txn_time\"]].head(10))\n",
    "print(logins[[\"user_id\", \"login_time\"]].head(10))\n"
   ]
  },
  {
   "cell_type": "code",
   "execution_count": 21,
   "id": "5c7676e2",
   "metadata": {},
   "outputs": [],
   "source": [
    "# feature engineering\n",
    "import numpy as np\n",
    "\n",
    "def haversine(lat1, lon1, lat2, lon2):\n",
    "    \"\"\"\n",
    "    Calculate the great-circle distance (in km) between two points using Haversine formula.\n",
    "    \"\"\"\n",
    "    R = 6371  # Radius of the Earth in km\n",
    "    lat1, lon1, lat2, lon2 = map(np.radians, [lat1, lon1, lat2, lon2])\n",
    "    dlat = lat2 - lat1\n",
    "    dlon = lon2 - lon1\n",
    "\n",
    "    a = np.sin(dlat/2.0)**2 + np.cos(lat1) * np.cos(lat2) * np.sin(dlon/2.0)**2\n",
    "    c = 2 * np.arcsin(np.sqrt(a))\n",
    "    return R * c\n"
   ]
  },
  {
   "cell_type": "code",
   "execution_count": 22,
   "id": "693f606d",
   "metadata": {},
   "outputs": [],
   "source": [
    "# Apply Haversine distance\n",
    "merged[\"haversine_km\"] = haversine(\n",
    "    merged[\"location_lat\"], merged[\"location_long\"],\n",
    "    merged[\"login_lat\"], merged[\"login_long\"]\n",
    ")\n",
    "\n",
    "# Flag if transaction device is different from login device\n",
    "merged[\"new_device\"] = (merged[\"device_id\"] != merged[\"login_device\"]).astype(int)\n",
    "\n",
    "# Time difference between login and transaction in minutes\n",
    "merged[\"login_txn_gap_min\"] = (merged[\"txn_time\"] - merged[\"login_time\"]).dt.total_seconds() / 60.0\n"
   ]
  },
  {
   "cell_type": "code",
   "execution_count": 23,
   "id": "4c8af9cf",
   "metadata": {},
   "outputs": [],
   "source": [
    "# Z-score of login_txn_gap per user\n",
    "merged[\"time_dev_z\"] = merged.groupby(\"user_id\")[\"login_txn_gap_min\"].transform(\n",
    "    lambda x: (x - x.mean()) / (x.std() + 1e-5)\n",
    ")\n"
   ]
  },
  {
   "cell_type": "code",
   "execution_count": 24,
   "id": "a2b00408",
   "metadata": {},
   "outputs": [
    {
     "data": {
      "text/html": [
       "<div>\n",
       "<style scoped>\n",
       "    .dataframe tbody tr th:only-of-type {\n",
       "        vertical-align: middle;\n",
       "    }\n",
       "\n",
       "    .dataframe tbody tr th {\n",
       "        vertical-align: top;\n",
       "    }\n",
       "\n",
       "    .dataframe thead th {\n",
       "        text-align: right;\n",
       "    }\n",
       "</style>\n",
       "<table border=\"1\" class=\"dataframe\">\n",
       "  <thead>\n",
       "    <tr style=\"text-align: right;\">\n",
       "      <th></th>\n",
       "      <th>user_id</th>\n",
       "      <th>txn_time</th>\n",
       "      <th>login_time</th>\n",
       "      <th>haversine_km</th>\n",
       "      <th>new_device</th>\n",
       "      <th>login_txn_gap_min</th>\n",
       "      <th>time_dev_z</th>\n",
       "    </tr>\n",
       "  </thead>\n",
       "  <tbody>\n",
       "    <tr>\n",
       "      <th>0</th>\n",
       "      <td>user_1</td>\n",
       "      <td>2025-07-05 07:26:24</td>\n",
       "      <td>2025-07-04 09:49:03</td>\n",
       "      <td>11424.976085</td>\n",
       "      <td>1</td>\n",
       "      <td>1297.350000</td>\n",
       "      <td>-0.425039</td>\n",
       "    </tr>\n",
       "    <tr>\n",
       "      <th>1</th>\n",
       "      <td>user_1</td>\n",
       "      <td>2025-07-08 20:37:03</td>\n",
       "      <td>2025-07-07 06:00:43</td>\n",
       "      <td>7168.123102</td>\n",
       "      <td>1</td>\n",
       "      <td>2316.333333</td>\n",
       "      <td>0.959945</td>\n",
       "    </tr>\n",
       "    <tr>\n",
       "      <th>2</th>\n",
       "      <td>user_1</td>\n",
       "      <td>2025-07-12 03:43:10</td>\n",
       "      <td>2025-07-11 15:39:02</td>\n",
       "      <td>3681.244057</td>\n",
       "      <td>1</td>\n",
       "      <td>724.133333</td>\n",
       "      <td>-1.204145</td>\n",
       "    </tr>\n",
       "    <tr>\n",
       "      <th>3</th>\n",
       "      <td>user_1</td>\n",
       "      <td>2025-07-13 02:41:29</td>\n",
       "      <td>2025-07-11 15:39:02</td>\n",
       "      <td>11125.507715</td>\n",
       "      <td>1</td>\n",
       "      <td>2102.450000</td>\n",
       "      <td>0.669239</td>\n",
       "    </tr>\n",
       "    <tr>\n",
       "      <th>4</th>\n",
       "      <td>user_10</td>\n",
       "      <td>2025-06-24 05:32:33</td>\n",
       "      <td>2025-06-18 23:21:14</td>\n",
       "      <td>15035.202667</td>\n",
       "      <td>1</td>\n",
       "      <td>7571.316667</td>\n",
       "      <td>-0.701003</td>\n",
       "    </tr>\n",
       "  </tbody>\n",
       "</table>\n",
       "</div>"
      ],
      "text/plain": [
       "   user_id            txn_time          login_time  haversine_km  new_device  \\\n",
       "0   user_1 2025-07-05 07:26:24 2025-07-04 09:49:03  11424.976085           1   \n",
       "1   user_1 2025-07-08 20:37:03 2025-07-07 06:00:43   7168.123102           1   \n",
       "2   user_1 2025-07-12 03:43:10 2025-07-11 15:39:02   3681.244057           1   \n",
       "3   user_1 2025-07-13 02:41:29 2025-07-11 15:39:02  11125.507715           1   \n",
       "4  user_10 2025-06-24 05:32:33 2025-06-18 23:21:14  15035.202667           1   \n",
       "\n",
       "   login_txn_gap_min  time_dev_z  \n",
       "0        1297.350000   -0.425039  \n",
       "1        2316.333333    0.959945  \n",
       "2         724.133333   -1.204145  \n",
       "3        2102.450000    0.669239  \n",
       "4        7571.316667   -0.701003  "
      ]
     },
     "execution_count": 24,
     "metadata": {},
     "output_type": "execute_result"
    }
   ],
   "source": [
    "merged[[\n",
    "    \"user_id\", \"txn_time\", \"login_time\",\n",
    "    \"haversine_km\", \"new_device\",\n",
    "    \"login_txn_gap_min\", \"time_dev_z\"\n",
    "]].head()\n"
   ]
  },
  {
   "cell_type": "code",
   "execution_count": 26,
   "id": "e8f9174e",
   "metadata": {},
   "outputs": [
    {
     "name": "stdout",
     "output_type": "stream",
     "text": [
      "Model Evaluation:\n",
      "[[1985    0]\n",
      " [ 105    0]]\n",
      "              precision    recall  f1-score   support\n",
      "\n",
      "           0       0.95      1.00      0.97      1985\n",
      "           1       0.00      0.00      0.00       105\n",
      "\n",
      "    accuracy                           0.95      2090\n",
      "   macro avg       0.47      0.50      0.49      2090\n",
      "weighted avg       0.90      0.95      0.93      2090\n",
      "\n"
     ]
    },
    {
     "name": "stderr",
     "output_type": "stream",
     "text": [
      "C:\\Users\\USER\\AppData\\Local\\Programs\\Python\\Python311\\Lib\\site-packages\\sklearn\\metrics\\_classification.py:1706: UndefinedMetricWarning: Precision is ill-defined and being set to 0.0 in labels with no predicted samples. Use `zero_division` parameter to control this behavior.\n",
      "  _warn_prf(average, modifier, f\"{metric.capitalize()} is\", result.shape[0])\n",
      "C:\\Users\\USER\\AppData\\Local\\Programs\\Python\\Python311\\Lib\\site-packages\\sklearn\\metrics\\_classification.py:1706: UndefinedMetricWarning: Precision is ill-defined and being set to 0.0 in labels with no predicted samples. Use `zero_division` parameter to control this behavior.\n",
      "  _warn_prf(average, modifier, f\"{metric.capitalize()} is\", result.shape[0])\n",
      "C:\\Users\\USER\\AppData\\Local\\Programs\\Python\\Python311\\Lib\\site-packages\\sklearn\\metrics\\_classification.py:1706: UndefinedMetricWarning: Precision is ill-defined and being set to 0.0 in labels with no predicted samples. Use `zero_division` parameter to control this behavior.\n",
      "  _warn_prf(average, modifier, f\"{metric.capitalize()} is\", result.shape[0])\n"
     ]
    }
   ],
   "source": [
    "# train model - random forest classifier\n",
    "from sklearn.ensemble import RandomForestClassifier\n",
    "from sklearn.model_selection import train_test_split\n",
    "from sklearn.metrics import classification_report, confusion_matrix\n",
    "\n",
    "# Features to use\n",
    "FEATURES = [\"amount\", \"haversine_km\", \"new_device\", \"login_txn_gap_min\"]\n",
    "X = merged[FEATURES]\n",
    "y = merged[\"is_fraud\"]\n",
    "\n",
    "# Train/test split\n",
    "X_train, X_test, y_train, y_test = train_test_split(\n",
    "    X, y, test_size=0.25, stratify=y, random_state=42\n",
    ")\n",
    "\n",
    "# Train model\n",
    "model = RandomForestClassifier(n_estimators=200, class_weight=\"balanced\", random_state=42)\n",
    "model.fit(X_train, y_train)\n",
    "\n",
    "# Predict and evaluate\n",
    "y_pred = model.predict(X_test)\n",
    "\n",
    "print(\"Model Evaluation:\")\n",
    "print(confusion_matrix(y_test, y_pred))\n",
    "print(classification_report(y_test, y_pred))\n"
   ]
  },
  {
   "cell_type": "code",
   "execution_count": 29,
   "id": "8e95a565",
   "metadata": {},
   "outputs": [
    {
     "name": "stdout",
     "output_type": "stream",
     "text": [
      "Evaluation After Balancing:\n",
      "[[1971   14]\n",
      " [ 104    1]]\n",
      "              precision    recall  f1-score   support\n",
      "\n",
      "           0       0.95      0.99      0.97      1985\n",
      "           1       0.07      0.01      0.02       105\n",
      "\n",
      "    accuracy                           0.94      2090\n",
      "   macro avg       0.51      0.50      0.49      2090\n",
      "weighted avg       0.91      0.94      0.92      2090\n",
      "\n"
     ]
    }
   ],
   "source": [
    "# need to balance the training data by oversampling fraud cases.\n",
    "\n",
    "from sklearn.utils import resample\n",
    "from sklearn.ensemble import RandomForestClassifier\n",
    "from sklearn.model_selection import train_test_split\n",
    "from sklearn.metrics import classification_report, confusion_matrix\n",
    "\n",
    "# 1. Prepare dataset\n",
    "FEATURES = [\"amount\", \"haversine_km\", \"new_device\", \"login_txn_gap_min\"]\n",
    "X = merged[FEATURES]\n",
    "y = merged[\"is_fraud\"]\n",
    "\n",
    "X_train, X_test, y_train, y_test = train_test_split(\n",
    "    X, y, test_size=0.25, stratify=y, random_state=42\n",
    ")\n",
    "\n",
    "# 2. Combine for resampling\n",
    "df_train = X_train.copy()\n",
    "df_train[\"is_fraud\"] = y_train\n",
    "\n",
    "# 3. Separate classes\n",
    "fraud = df_train[df_train[\"is_fraud\"] == 1]\n",
    "non_fraud = df_train[df_train[\"is_fraud\"] == 0]\n",
    "\n",
    "# 4. Upsample minority class (fraud)\n",
    "fraud_upsampled = resample(fraud,\n",
    "                           replace=True,\n",
    "                           n_samples=len(non_fraud),\n",
    "                           random_state=42)\n",
    "\n",
    "# 5. Combine back\n",
    "balanced_train = pd.concat([non_fraud, fraud_upsampled])\n",
    "\n",
    "X_train_bal = balanced_train.drop(\"is_fraud\", axis=1)\n",
    "y_train_bal = balanced_train[\"is_fraud\"]\n",
    "\n",
    "# 6. Train model\n",
    "model = RandomForestClassifier(n_estimators=200, random_state=42)\n",
    "model.fit(X_train_bal, y_train_bal)\n",
    "\n",
    "# 7. Predict\n",
    "y_pred = model.predict(X_test)\n",
    "\n",
    "# 8. Evaluate\n",
    "print(\"Evaluation After Balancing:\")\n",
    "print(confusion_matrix(y_test, y_pred))\n",
    "print(classification_report(y_test, y_pred, zero_division=0))\n"
   ]
  },
  {
   "cell_type": "code",
   "execution_count": 30,
   "id": "bcd886cb",
   "metadata": {},
   "outputs": [
    {
     "name": "stdout",
     "output_type": "stream",
     "text": [
      "File saved as: merged_anomaly_features.csv\n"
     ]
    }
   ],
   "source": [
    "merged.to_csv(\"merged_anomaly_features.csv\", index=False)\n",
    "print(\"File saved as: merged_anomaly_features.csv\")\n"
   ]
  },
  {
   "cell_type": "code",
   "execution_count": 31,
   "id": "b99cac91",
   "metadata": {},
   "outputs": [],
   "source": [
    "!pip install seaborn\n"
   ]
  },
  {
   "cell_type": "code",
   "execution_count": 33,
   "id": "76014bad",
   "metadata": {},
   "outputs": [
    {
     "data": {
      "image/png": "[encoded data removed]",
      "text/plain": [
       "<Figure size 640x480 with 1 Axes>"
      ]
     },
     "metadata": {},
     "output_type": "display_data"
    },
    {
     "data": {
      "image/png": "[encoded data removed]",
      "text/plain": [
       "<Figure size 640x480 with 1 Axes>"
      ]
     },
     "metadata": {},
     "output_type": "display_data"
    },
    {
     "data": {
      "image/png": "[encoded data removed]",
      "text/plain": [
       "<Figure size 640x480 with 1 Axes>"
      ]
     },
     "metadata": {},
     "output_type": "display_data"
    }
   ],
   "source": [
    "import seaborn as sns\n",
    "import matplotlib.pyplot as plt\n",
    "\n",
    "# Fraud vs Non-Fraud by Haversine Distance\n",
    "sns.boxplot(data=merged, x=\"is_fraud\", y=\"haversine_km\")\n",
    "plt.title(\"Haversine Distance vs Fraud\")\n",
    "plt.show()\n",
    "\n",
    "# Device mismatch frequency\n",
    "sns.countplot(data=merged, x=\"new_device\", hue=\"is_fraud\")\n",
    "plt.title(\"New Device vs Fraud\")\n",
    "plt.show()\n",
    "\n",
    "# Time gap between login and transaction\n",
    "sns.boxplot(data=merged, x=\"is_fraud\", y=\"login_txn_gap_min\")\n",
    "plt.title(\"Login-Transaction Gap vs Fraud\")\n",
    "plt.show()\n"
   ]
  },
  {
   "cell_type": "code",
   "execution_count": 35,
   "id": "50bd5097",
   "metadata": {},
   "outputs": [
    {
     "name": "stdout",
     "output_type": "stream",
     "text": [
      "Model saved as fraud_rf_model.pkl\n"
     ]
    }
   ],
   "source": [
    "# Saved trained model to disk so it can be reused in real-time systems.\n",
    "import joblib\n",
    "joblib.dump(model, \"fraud_rf_model.pkl\")\n",
    "print(\"Model saved as fraud_rf_model.pkl\")\n"
   ]
  },
  {
   "cell_type": "code",
   "execution_count": 37,
   "id": "7774e27d",
   "metadata": {},
   "outputs": [
    {
     "name": "stdout",
     "output_type": "stream",
     "text": [
      "High-risk transactions:\n"
     ]
    },
    {
     "data": {
      "text/html": [
       "<div>\n",
       "<style scoped>\n",
       "    .dataframe tbody tr th:only-of-type {\n",
       "        vertical-align: middle;\n",
       "    }\n",
       "\n",
       "    .dataframe tbody tr th {\n",
       "        vertical-align: top;\n",
       "    }\n",
       "\n",
       "    .dataframe thead th {\n",
       "        text-align: right;\n",
       "    }\n",
       "</style>\n",
       "<table border=\"1\" class=\"dataframe\">\n",
       "  <thead>\n",
       "    <tr style=\"text-align: right;\">\n",
       "      <th></th>\n",
       "      <th>user_id</th>\n",
       "      <th>txn_time</th>\n",
       "      <th>amount</th>\n",
       "      <th>haversine_km</th>\n",
       "      <th>new_device</th>\n",
       "      <th>fraud_prob</th>\n",
       "    </tr>\n",
       "  </thead>\n",
       "  <tbody>\n",
       "    <tr>\n",
       "      <th>221</th>\n",
       "      <td>user_1040</td>\n",
       "      <td>2025-07-15 04:55:48</td>\n",
       "      <td>2035.35</td>\n",
       "      <td>3423.113731</td>\n",
       "      <td>1</td>\n",
       "      <td>1.0</td>\n",
       "    </tr>\n",
       "    <tr>\n",
       "      <th>504</th>\n",
       "      <td>user_1100</td>\n",
       "      <td>2025-07-15 14:20:17</td>\n",
       "      <td>5408.73</td>\n",
       "      <td>6192.428549</td>\n",
       "      <td>1</td>\n",
       "      <td>1.0</td>\n",
       "    </tr>\n",
       "    <tr>\n",
       "      <th>1050</th>\n",
       "      <td>user_1221</td>\n",
       "      <td>2025-07-16 01:45:04</td>\n",
       "      <td>978.79</td>\n",
       "      <td>12359.284652</td>\n",
       "      <td>1</td>\n",
       "      <td>1.0</td>\n",
       "    </tr>\n",
       "    <tr>\n",
       "      <th>1181</th>\n",
       "      <td>user_1250</td>\n",
       "      <td>2025-07-16 05:45:10</td>\n",
       "      <td>6781.96</td>\n",
       "      <td>10600.664318</td>\n",
       "      <td>1</td>\n",
       "      <td>1.0</td>\n",
       "    </tr>\n",
       "    <tr>\n",
       "      <th>1431</th>\n",
       "      <td>user_1304</td>\n",
       "      <td>2025-07-16 10:00:37</td>\n",
       "      <td>2780.38</td>\n",
       "      <td>4009.426380</td>\n",
       "      <td>1</td>\n",
       "      <td>1.0</td>\n",
       "    </tr>\n",
       "  </tbody>\n",
       "</table>\n",
       "</div>"
      ],
      "text/plain": [
       "        user_id            txn_time   amount  haversine_km  new_device  \\\n",
       "221   user_1040 2025-07-15 04:55:48  2035.35   3423.113731           1   \n",
       "504   user_1100 2025-07-15 14:20:17  5408.73   6192.428549           1   \n",
       "1050  user_1221 2025-07-16 01:45:04   978.79  12359.284652           1   \n",
       "1181  user_1250 2025-07-16 05:45:10  6781.96  10600.664318           1   \n",
       "1431  user_1304 2025-07-16 10:00:37  2780.38   4009.426380           1   \n",
       "\n",
       "      fraud_prob  \n",
       "221          1.0  \n",
       "504          1.0  \n",
       "1050         1.0  \n",
       "1181         1.0  \n",
       "1431         1.0  "
      ]
     },
     "execution_count": 37,
     "metadata": {},
     "output_type": "execute_result"
    }
   ],
   "source": [
    "# Simulate scoring new transactions in real-time:\n",
    "# Simulate a new batch (e.g., last 3 days)\n",
    "latest_txns = merged[merged[\"txn_time\"] >= pd.Timestamp.now() - pd.Timedelta(days=3)].copy()\n",
    "\n",
    "# Select same features\n",
    "X_new = latest_txns[[\"amount\", \"haversine_km\", \"new_device\", \"login_txn_gap_min\"]]\n",
    "\n",
    "# Predict fraud probability\n",
    "latest_txns[\"fraud_prob\"] = model.predict_proba(X_new)[:, 1]\n",
    "latest_txns[\"fraud_pred\"] = (latest_txns[\"fraud_prob\"] >= 0.5).astype(int)\n",
    "\n",
    "# Show high-risk cases\n",
    "alerts = latest_txns[latest_txns[\"fraud_pred\"] == 1]\n",
    "print(\"High-risk transactions:\")\n",
    "alerts[[\"user_id\", \"txn_time\", \"amount\", \"haversine_km\", \"new_device\", \"fraud_prob\"]].head()\n"
   ]
  },
  {
   "cell_type": "code",
   "execution_count": 38,
   "id": "fae1af38",
   "metadata": {},
   "outputs": [
    {
     "name": "stdout",
     "output_type": "stream",
     "text": [
      "High-risk alerts saved to high_risk_transactions.csv\n"
     ]
    }
   ],
   "source": [
    "alerts.to_csv(\"high_risk_transactions.csv\", index=False)\n",
    "print(\"High-risk alerts saved to high_risk_transactions.csv\")"
   ]
  },
  {
   "cell_type": "code",
   "execution_count": null,
   "id": "5200c24d",
   "metadata": {},
   "outputs": [],
   "source": []
  }
 ],
 "metadata": {
  "kernelspec": {
   "display_name": "Python 3 (ipykernel)",
   "language": "python",
   "name": "python3"
  },
  "language_info": {
   "codemirror_mode": {
    "name": "ipython",
    "version": 3
   },
   "file_extension": ".py",
   "mimetype": "text/x-python",
   "name": "python",
   "nbconvert_exporter": "python",
   "pygments_lexer": "ipython3",
   "version": "3.11.0"
  }
 },
 "nbformat": 4,
 "nbformat_minor": 5
}
